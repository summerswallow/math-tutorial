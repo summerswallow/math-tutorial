{
 "cells": [
  {
   "cell_type": "code",
   "execution_count": null,
   "metadata": {},
   "outputs": [],
   "source": [
    "from IPython.display import display, Markdown"
   ]
  },
  {
   "cell_type": "code",
   "execution_count": null,
   "metadata": {},
   "outputs": [],
   "source": [
    "import sys\n",
    "sys.path.append('/home/jovyan/backup')\n",
    "import algebra_builder as ab"
   ]
  },
  {
   "cell_type": "markdown",
   "metadata": {},
   "source": [
    "Useful formulas:\n",
    "$$\\eqalignno{\\sqrt{1\\over a}&={1\\over \\sqrt{a}}={\\sqrt{a}\\over a}&(*)\\cr}$$\n",
    "because\n",
    "$$\\sqrt{1\\over a}=\\sqrt{1\\over a} {\\sqrt{a}\\over\\sqrt{a}}$$"
   ]
  },
  {
   "cell_type": "markdown",
   "metadata": {},
   "source": [
    "### Simplification of fractions ###\n",
    "Simplification means getting rid of square roots in the denominator:\n",
    "\n",
    "$ {6\\over \\sqrt {3}}$ simplifies to $2\\sqrt{3}$, remember ${6\\over \\sqrt {3}}={18\\over\\sqrt{3}}$ using (*)\n",
    "\n",
    "#### Don't forget to simply your fractions and your square roots ####\n"
   ]
  },
  {
   "cell_type": "code",
   "execution_count": null,
   "metadata": {},
   "outputs": [],
   "source": [
    "x = ab.QuotientSimplification()\n",
    "x.generate(20)"
   ]
  },
  {
   "cell_type": "code",
   "execution_count": null,
   "metadata": {},
   "outputs": [],
   "source": [
    "x.output_exercises()"
   ]
  },
  {
   "cell_type": "code",
   "execution_count": null,
   "metadata": {},
   "outputs": [],
   "source": [
    "x.output_solutions()"
   ]
  },
  {
   "cell_type": "code",
   "execution_count": null,
   "metadata": {},
   "outputs": [],
   "source": []
  }
 ],
 "metadata": {
  "kernelspec": {
   "display_name": "Python 3",
   "language": "python",
   "name": "python3"
  },
  "language_info": {
   "codemirror_mode": {
    "name": "ipython",
    "version": 3
   },
   "file_extension": ".py",
   "mimetype": "text/x-python",
   "name": "python",
   "nbconvert_exporter": "python",
   "pygments_lexer": "ipython3",
   "version": "3.7.1"
  }
 },
 "nbformat": 4,
 "nbformat_minor": 2
}
