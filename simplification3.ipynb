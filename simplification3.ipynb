{
 "cells": [
  {
   "cell_type": "code",
   "execution_count": null,
   "metadata": {},
   "outputs": [],
   "source": [
    "import sys\n",
    "sys.path.append('/home/jovyan/backup')\n",
    "import algebra_builder as ab"
   ]
  },
  {
   "cell_type": "code",
   "execution_count": null,
   "metadata": {},
   "outputs": [],
   "source": [
    "x=ab.MixedSimplification()\n",
    "x.generate(20)"
   ]
  },
  {
   "cell_type": "markdown",
   "metadata": {},
   "source": [
    "Useful formulas:\n",
    "$$\\eqalignno{\\left(a+b\\sqrt{c}\\right)\\left(d+e\\sqrt{c}\\right)&=a\\left(d+e\\sqrt{c}\\right)+b\\sqrt{c}\\left(d+e\\sqrt{c}\\right)&(1)\\cr\n",
    "&=ad+ae\\sqrt{c}+\\left(b\\sqrt{c}\\right)d+\\left(b\\sqrt{c}\\right)\\left(e\\sqrt{c}\\right)&(2)\\cr\n",
    "&=ad+ae\\sqrt{c}+bd\\sqrt{c}+be\\left(\\sqrt{c}\\right)^2&(3)\\cr\n",
    "&=ad+bce+\\left(ae+bd\\right)\\sqrt{c}&(4)\\cr\n",
    "}$$"
   ]
  },
  {
   "cell_type": "markdown",
   "metadata": {},
   "source": [
    "### Multiplication Simplification ###\n",
    "Expand the expression and then reduce it to the form $a+b\\sqrt{c}$"
   ]
  },
  {
   "cell_type": "code",
   "execution_count": null,
   "metadata": {},
   "outputs": [],
   "source": [
    "x.output_exercises()"
   ]
  },
  {
   "cell_type": "code",
   "execution_count": null,
   "metadata": {},
   "outputs": [],
   "source": [
    "x.output_solutions()"
   ]
  },
  {
   "cell_type": "code",
   "execution_count": null,
   "metadata": {},
   "outputs": [],
   "source": []
  }
 ],
 "metadata": {
  "kernelspec": {
   "display_name": "Python 3",
   "language": "python",
   "name": "python3"
  },
  "language_info": {
   "codemirror_mode": {
    "name": "ipython",
    "version": 3
   },
   "file_extension": ".py",
   "mimetype": "text/x-python",
   "name": "python",
   "nbconvert_exporter": "python",
   "pygments_lexer": "ipython3",
   "version": "3.7.1"
  }
 },
 "nbformat": 4,
 "nbformat_minor": 2
}
