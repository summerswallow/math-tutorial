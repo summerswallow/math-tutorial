{
 "cells": [
  {
   "cell_type": "code",
   "execution_count": 1,
   "metadata": {},
   "outputs": [],
   "source": [
    "from IPython.display import display, Markdown\n",
    "import random\n",
    "import sys\n",
    "sys.path.append('/home/jovyan/lessons/math-tutorial') \n",
    "import algebra_builder as ab\n",
    "from algebra_builder import Simplification"
   ]
  },
  {
   "cell_type": "markdown",
   "metadata": {},
   "source": [
    "### Powers of powers\n",
    "When a number or expression is raised to a power and that expression is then raised to a power, the result is the product of the powers.\n",
    "\n",
    "Example:\n",
    "\n",
    "$$ \\left(2^3\\right)^2 = 2^6 $$\n",
    "\n",
    "Remember that the square of a expression ($2^3$) is that expression multiplied to itself: \n",
    "$$ \\left(2^3\\right)^2 = \\left(2^3\\right)\\times \\left(2^3\\right)$$\n",
    "\n",
    "and $2^3$ is 2 multiplied with itself 3 times $2^3 = 2\\times 2\\times 2$ so writing it all out\n",
    "$$ \\left(2^3\\right)^2 = \\left(2^3\\right)\\times \\left(2^3\\right) = (2\\times2\\times2)\\times(2\\times2\\times2) = 2\\times2\\times2\\times2\\times2\\times2 = 2^6$$\n",
    "\n",
    "The general rule is:\n",
    "$$\\left(x^a\\right)^b= x^{ab}$$ and that works for longer expressions:\n",
    "$$\\left(\\left(x^a\\right)^b\\right)^c= x^{abc}$$\n",
    "\n",
    "### Radicals (or roots) as powers\n",
    "\n",
    "A square root of a number or expression is that number or expression raised to the power of $1\\over2$. For example,\n",
    "$$\\sqrt{2} = 2^{1/2}$$\n",
    "\n",
    "You can easily see that this is true by squaring the equation and using the power of power formula above:\n",
    "\n",
    "$$\\sqrt{2}^2 = \\left(2^{1/2}\\right)^2 = 2^{{1\\over2}2} = 2^1 = 2 $$\n",
    "\n",
    "In general, the $n$th root of a number is that number raised to the power of $1\\over n$:\n",
    "\n",
    "$${\\root n \\of x} = x^{1/n}$$\n",
    "### Compound Radicals\n",
    "\n",
    "\n",
    "Like powers of powers radicals of radicals can be simplified by multipling the power of the radical\n",
    "\n",
    "$${\\root a \\of {\\root b \\of x}} = {\\root ab \\of x}$$\n",
    "\n",
    "Don't forget to simply the radical of powers:\n",
    "\n",
    "$${\\root 2 \\of {\\root 2 \\of {\\root 3 \\of 16}}} = {\\root 12 \\of 16} = {\\root 12 \\of {2^4}} = {\\root 3 \\of 2}$$ "
   ]
  },
  {
   "cell_type": "code",
   "execution_count": 2,
   "metadata": {},
   "outputs": [],
   "source": [
    "x = ab.RadicalSimplification()\n",
    "x.generate(20)"
   ]
  },
  {
   "cell_type": "code",
   "execution_count": 3,
   "metadata": {},
   "outputs": [
    {
     "data": {
      "text/markdown": [
       "#### Exercises ####"
      ],
      "text/plain": [
       "<IPython.core.display.Markdown object>"
      ]
     },
     "metadata": {},
     "output_type": "display_data"
    },
    {
     "data": {
      "text/markdown": [
       "1) $\\displaystyle {\\root 9 \\of {{\\root 3 \\of {{\\root 3 \\of {6}}}}}}$"
      ],
      "text/plain": [
       "<IPython.core.display.Markdown object>"
      ]
     },
     "metadata": {},
     "output_type": "display_data"
    },
    {
     "data": {
      "text/markdown": [
       "2) $\\displaystyle {\\root 9 \\of {{\\root 4 \\of {{\\root 3 \\of {10}}}}}}$"
      ],
      "text/plain": [
       "<IPython.core.display.Markdown object>"
      ]
     },
     "metadata": {},
     "output_type": "display_data"
    },
    {
     "data": {
      "text/markdown": [
       "3) $\\displaystyle {\\root 8 \\of {{\\root 6 \\of {{\\sqrt{7}}}}}}$"
      ],
      "text/plain": [
       "<IPython.core.display.Markdown object>"
      ]
     },
     "metadata": {},
     "output_type": "display_data"
    },
    {
     "data": {
      "text/markdown": [
       "4) $\\displaystyle {\\root 9 \\of {{\\sqrt{{\\root 3 \\of {9}}}}}}$"
      ],
      "text/plain": [
       "<IPython.core.display.Markdown object>"
      ]
     },
     "metadata": {},
     "output_type": "display_data"
    },
    {
     "data": {
      "text/markdown": [
       "5) $\\displaystyle {\\root 6 \\of {{\\root 5 \\of {{\\root 3 \\of {6}}}}}}$"
      ],
      "text/plain": [
       "<IPython.core.display.Markdown object>"
      ]
     },
     "metadata": {},
     "output_type": "display_data"
    },
    {
     "data": {
      "text/markdown": [
       "6) $\\displaystyle {\\root 4 \\of {{\\root 4 \\of {9}}}}$"
      ],
      "text/plain": [
       "<IPython.core.display.Markdown object>"
      ]
     },
     "metadata": {},
     "output_type": "display_data"
    },
    {
     "data": {
      "text/markdown": [
       "7) $\\displaystyle {\\root 4 \\of {{\\sqrt{{\\root 3 \\of {5}}}}}}$"
      ],
      "text/plain": [
       "<IPython.core.display.Markdown object>"
      ]
     },
     "metadata": {},
     "output_type": "display_data"
    },
    {
     "data": {
      "text/markdown": [
       "8) $\\displaystyle {\\root 9 \\of {{\\root 8 \\of {{\\sqrt{3}}}}}}$"
      ],
      "text/plain": [
       "<IPython.core.display.Markdown object>"
      ]
     },
     "metadata": {},
     "output_type": "display_data"
    },
    {
     "data": {
      "text/markdown": [
       "9) $\\displaystyle {\\root 8 \\of {{\\root 7 \\of {5}}}}$"
      ],
      "text/plain": [
       "<IPython.core.display.Markdown object>"
      ]
     },
     "metadata": {},
     "output_type": "display_data"
    },
    {
     "data": {
      "text/markdown": [
       "10) $\\displaystyle {\\sqrt{{\\sqrt{{\\sqrt{10}}}}}}$"
      ],
      "text/plain": [
       "<IPython.core.display.Markdown object>"
      ]
     },
     "metadata": {},
     "output_type": "display_data"
    },
    {
     "data": {
      "text/markdown": [
       "11) $\\displaystyle {\\root 9 \\of {{\\root 4 \\of {{\\sqrt{8}}}}}}$"
      ],
      "text/plain": [
       "<IPython.core.display.Markdown object>"
      ]
     },
     "metadata": {},
     "output_type": "display_data"
    },
    {
     "data": {
      "text/markdown": [
       "12) $\\displaystyle {\\root 7 \\of {{\\root 4 \\of {{\\sqrt{4}}}}}}$"
      ],
      "text/plain": [
       "<IPython.core.display.Markdown object>"
      ]
     },
     "metadata": {},
     "output_type": "display_data"
    },
    {
     "data": {
      "text/markdown": [
       "13) $\\displaystyle {\\root 3 \\of {{\\root 3 \\of {{\\sqrt{4}}}}}}$"
      ],
      "text/plain": [
       "<IPython.core.display.Markdown object>"
      ]
     },
     "metadata": {},
     "output_type": "display_data"
    },
    {
     "data": {
      "text/markdown": [
       "14) $\\displaystyle {\\root 8 \\of {{\\root 3 \\of {7}}}}$"
      ],
      "text/plain": [
       "<IPython.core.display.Markdown object>"
      ]
     },
     "metadata": {},
     "output_type": "display_data"
    },
    {
     "data": {
      "text/markdown": [
       "15) $\\displaystyle {\\root 7 \\of {{\\sqrt{7}}}}$"
      ],
      "text/plain": [
       "<IPython.core.display.Markdown object>"
      ]
     },
     "metadata": {},
     "output_type": "display_data"
    },
    {
     "data": {
      "text/markdown": [
       "16) $\\displaystyle {\\sqrt{{\\sqrt{{\\sqrt{7}}}}}}$"
      ],
      "text/plain": [
       "<IPython.core.display.Markdown object>"
      ]
     },
     "metadata": {},
     "output_type": "display_data"
    },
    {
     "data": {
      "text/markdown": [
       "17) $\\displaystyle {\\root 6 \\of {{\\root 6 \\of {{\\sqrt{5}}}}}}$"
      ],
      "text/plain": [
       "<IPython.core.display.Markdown object>"
      ]
     },
     "metadata": {},
     "output_type": "display_data"
    },
    {
     "data": {
      "text/markdown": [
       "18) $\\displaystyle {\\root 8 \\of {{\\root 5 \\of {8}}}}$"
      ],
      "text/plain": [
       "<IPython.core.display.Markdown object>"
      ]
     },
     "metadata": {},
     "output_type": "display_data"
    },
    {
     "data": {
      "text/markdown": [
       "19) $\\displaystyle {\\root 5 \\of {{\\sqrt{{\\sqrt{7}}}}}}$"
      ],
      "text/plain": [
       "<IPython.core.display.Markdown object>"
      ]
     },
     "metadata": {},
     "output_type": "display_data"
    },
    {
     "data": {
      "text/markdown": [
       "20) $\\displaystyle {\\root 5 \\of {{\\sqrt{{\\root 3 \\of {2}}}}}}$"
      ],
      "text/plain": [
       "<IPython.core.display.Markdown object>"
      ]
     },
     "metadata": {},
     "output_type": "display_data"
    }
   ],
   "source": [
    "x.output_exercises()"
   ]
  },
  {
   "cell_type": "code",
   "execution_count": 4,
   "metadata": {},
   "outputs": [
    {
     "data": {
      "text/markdown": [
       "#### Solutions ####"
      ],
      "text/plain": [
       "<IPython.core.display.Markdown object>"
      ]
     },
     "metadata": {},
     "output_type": "display_data"
    },
    {
     "data": {
      "text/markdown": [
       "1) $\\displaystyle {\\root 8 \\of {{\\root 5 \\of {{\\root 3 \\of {7}}}}}}={\\root 120 \\of {7}}$"
      ],
      "text/plain": [
       "<IPython.core.display.Markdown object>"
      ]
     },
     "metadata": {},
     "output_type": "display_data"
    },
    {
     "data": {
      "text/markdown": [
       "2) $\\displaystyle {\\root 3 \\of {{\\sqrt{4}}}}={\\root 3 \\of {2}}$"
      ],
      "text/plain": [
       "<IPython.core.display.Markdown object>"
      ]
     },
     "metadata": {},
     "output_type": "display_data"
    },
    {
     "data": {
      "text/markdown": [
       "3) $\\displaystyle {\\root 7 \\of {{\\sqrt{{\\sqrt{2}}}}}}={\\root 28 \\of {2}}$"
      ],
      "text/plain": [
       "<IPython.core.display.Markdown object>"
      ]
     },
     "metadata": {},
     "output_type": "display_data"
    },
    {
     "data": {
      "text/markdown": [
       "4) $\\displaystyle {\\root 4 \\of {{\\root 3 \\of {{\\root 3 \\of {7}}}}}}={\\root 36 \\of {7}}$"
      ],
      "text/plain": [
       "<IPython.core.display.Markdown object>"
      ]
     },
     "metadata": {},
     "output_type": "display_data"
    },
    {
     "data": {
      "text/markdown": [
       "5) $\\displaystyle {\\root 3 \\of {{\\root 3 \\of {{\\sqrt{6}}}}}}={\\root 18 \\of {6}}$"
      ],
      "text/plain": [
       "<IPython.core.display.Markdown object>"
      ]
     },
     "metadata": {},
     "output_type": "display_data"
    },
    {
     "data": {
      "text/markdown": [
       "6) $\\displaystyle {\\root 7 \\of {{\\root 3 \\of {6}}}}={\\root 21 \\of {6}}$"
      ],
      "text/plain": [
       "<IPython.core.display.Markdown object>"
      ]
     },
     "metadata": {},
     "output_type": "display_data"
    },
    {
     "data": {
      "text/markdown": [
       "7) $\\displaystyle {\\root 7 \\of {{\\root 4 \\of {{\\sqrt{9}}}}}}={\\root 28 \\of {3}}$"
      ],
      "text/plain": [
       "<IPython.core.display.Markdown object>"
      ]
     },
     "metadata": {},
     "output_type": "display_data"
    },
    {
     "data": {
      "text/markdown": [
       "8) $\\displaystyle {\\sqrt{{\\sqrt{9}}}}={\\sqrt{3}}$"
      ],
      "text/plain": [
       "<IPython.core.display.Markdown object>"
      ]
     },
     "metadata": {},
     "output_type": "display_data"
    },
    {
     "data": {
      "text/markdown": [
       "9) $\\displaystyle {\\sqrt{{\\sqrt{{\\sqrt{9}}}}}}={\\root 4 \\of {3}}$"
      ],
      "text/plain": [
       "<IPython.core.display.Markdown object>"
      ]
     },
     "metadata": {},
     "output_type": "display_data"
    },
    {
     "data": {
      "text/markdown": [
       "10) $\\displaystyle {\\root 6 \\of {{\\root 6 \\of {{\\root 3 \\of {9}}}}}}={\\root 54 \\of {3}}$"
      ],
      "text/plain": [
       "<IPython.core.display.Markdown object>"
      ]
     },
     "metadata": {},
     "output_type": "display_data"
    },
    {
     "data": {
      "text/markdown": [
       "11) $\\displaystyle {\\root 7 \\of {{\\root 6 \\of {10}}}}={\\root 42 \\of {10}}$"
      ],
      "text/plain": [
       "<IPython.core.display.Markdown object>"
      ]
     },
     "metadata": {},
     "output_type": "display_data"
    },
    {
     "data": {
      "text/markdown": [
       "12) $\\displaystyle {\\root 3 \\of {{\\root 3 \\of {{\\sqrt{2}}}}}}={\\root 18 \\of {2}}$"
      ],
      "text/plain": [
       "<IPython.core.display.Markdown object>"
      ]
     },
     "metadata": {},
     "output_type": "display_data"
    },
    {
     "data": {
      "text/markdown": [
       "13) $\\displaystyle {\\root 8 \\of {{\\root 3 \\of {{\\root 3 \\of {4}}}}}}={\\root 36 \\of {2}}$"
      ],
      "text/plain": [
       "<IPython.core.display.Markdown object>"
      ]
     },
     "metadata": {},
     "output_type": "display_data"
    },
    {
     "data": {
      "text/markdown": [
       "14) $\\displaystyle {\\root 4 \\of {{\\root 3 \\of {{\\sqrt{6}}}}}}={\\root 24 \\of {6}}$"
      ],
      "text/plain": [
       "<IPython.core.display.Markdown object>"
      ]
     },
     "metadata": {},
     "output_type": "display_data"
    },
    {
     "data": {
      "text/markdown": [
       "15) $\\displaystyle {\\root 4 \\of {{\\root 4 \\of {{\\root 3 \\of {10}}}}}}={\\root 48 \\of {10}}$"
      ],
      "text/plain": [
       "<IPython.core.display.Markdown object>"
      ]
     },
     "metadata": {},
     "output_type": "display_data"
    },
    {
     "data": {
      "text/markdown": [
       "16) $\\displaystyle {\\root 7 \\of {{\\root 5 \\of {{\\root 3 \\of {3}}}}}}={\\root 105 \\of {3}}$"
      ],
      "text/plain": [
       "<IPython.core.display.Markdown object>"
      ]
     },
     "metadata": {},
     "output_type": "display_data"
    },
    {
     "data": {
      "text/markdown": [
       "17) $\\displaystyle {\\sqrt{{\\sqrt{7}}}}={\\root 4 \\of {7}}$"
      ],
      "text/plain": [
       "<IPython.core.display.Markdown object>"
      ]
     },
     "metadata": {},
     "output_type": "display_data"
    },
    {
     "data": {
      "text/markdown": [
       "18) $\\displaystyle {\\root 9 \\of {{\\root 7 \\of {5}}}}={\\root 63 \\of {5}}$"
      ],
      "text/plain": [
       "<IPython.core.display.Markdown object>"
      ]
     },
     "metadata": {},
     "output_type": "display_data"
    },
    {
     "data": {
      "text/markdown": [
       "19) $\\displaystyle {\\root 4 \\of {{\\root 3 \\of {3}}}}={\\root 12 \\of {3}}$"
      ],
      "text/plain": [
       "<IPython.core.display.Markdown object>"
      ]
     },
     "metadata": {},
     "output_type": "display_data"
    },
    {
     "data": {
      "text/markdown": [
       "20) $\\displaystyle {\\root 8 \\of {{\\root 6 \\of {8}}}}={\\root 16 \\of {2}}$"
      ],
      "text/plain": [
       "<IPython.core.display.Markdown object>"
      ]
     },
     "metadata": {},
     "output_type": "display_data"
    }
   ],
   "source": [
    "x.output_solutions()"
   ]
  },
  {
   "cell_type": "markdown",
   "metadata": {},
   "source": [
    "$${\\root 3 \\of {\\sqrt{2}}}$$"
   ]
  },
  {
   "cell_type": "markdown",
   "metadata": {},
   "source": [
    "$${\\root8 \\of {102}}$$"
   ]
  },
  {
   "cell_type": "code",
   "execution_count": null,
   "metadata": {
    "scrolled": true
   },
   "outputs": [],
   "source": [
    "ab.root(8,10)"
   ]
  },
  {
   "cell_type": "code",
   "execution_count": null,
   "metadata": {},
   "outputs": [],
   "source": []
  }
 ],
 "metadata": {
  "kernelspec": {
   "display_name": "Python 3",
   "language": "python",
   "name": "python3"
  },
  "language_info": {
   "codemirror_mode": {
    "name": "ipython",
    "version": 3
   },
   "file_extension": ".py",
   "mimetype": "text/x-python",
   "name": "python",
   "nbconvert_exporter": "python",
   "pygments_lexer": "ipython3",
   "version": "3.7.3"
  }
 },
 "nbformat": 4,
 "nbformat_minor": 2
}
