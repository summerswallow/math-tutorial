{
 "cells": [
  {
   "cell_type": "code",
   "execution_count": 12,
   "metadata": {},
   "outputs": [],
   "source": [
    "import sys\n",
    "sys.path.append('/home/jovyan/backup')\n",
    "import algebra_builder as ab"
   ]
  },
  {
   "cell_type": "code",
   "execution_count": 13,
   "metadata": {},
   "outputs": [],
   "source": [
    "x=ab.MixedSimplification()\n",
    "x.generate(20)"
   ]
  },
  {
   "cell_type": "markdown",
   "metadata": {},
   "source": [
    "Useful formulas:\n",
    "$$\\eqalignno{\\left(a+b\\sqrt{c}\\right)\\left(d+e\\sqrt{c}\\right)&=a\\left(d+e\\sqrt{c}\\right)+b\\sqrt{c}\\left(d+e\\sqrt{c}\\right)&(1)\\cr\n",
    "&=ad+ae\\sqrt{c}+\\left(b\\sqrt{c}\\right)d+\\left(b\\sqrt{c}\\right)\\left(e\\sqrt{c}\\right)&(2)\\cr\n",
    "&=ad+ae\\sqrt{c}+bd\\sqrt{c}+be\\left(\\sqrt{c}\\right)^2&(3)\\cr\n",
    "&=ad+bce+\\left(ae+bd\\right)\\sqrt{c}&(4)\\cr\n",
    "}$$"
   ]
  },
  {
   "cell_type": "markdown",
   "metadata": {},
   "source": [
    "### Multiplication Simplification ###\n",
    "Expand the expression and then reduce it to the form $a+b\\sqrt{c}$"
   ]
  },
  {
   "cell_type": "code",
   "execution_count": 17,
   "metadata": {},
   "outputs": [
    {
     "data": {
      "text/markdown": [
       "#### Exercises ####"
      ],
      "text/plain": [
       "<IPython.core.display.Markdown object>"
      ]
     },
     "metadata": {},
     "output_type": "display_data"
    },
    {
     "data": {
      "text/markdown": [
       "1) $\\displaystyle \\left(-2 - \\sqrt{3}\\right) \\left(- 5 \\sqrt{3} + 9\\right)$"
      ],
      "text/plain": [
       "<IPython.core.display.Markdown object>"
      ]
     },
     "metadata": {},
     "output_type": "display_data"
    },
    {
     "data": {
      "text/markdown": [
       "2) $\\displaystyle \\left(1 + 4 \\sqrt{2}\\right) \\left(- 10 \\sqrt{2} + 6\\right)$"
      ],
      "text/plain": [
       "<IPython.core.display.Markdown object>"
      ]
     },
     "metadata": {},
     "output_type": "display_data"
    },
    {
     "data": {
      "text/markdown": [
       "3) $\\displaystyle \\left(- 4 \\sqrt{10} - 8\\right) \\left(- 4 \\sqrt{10} + 9\\right)$"
      ],
      "text/plain": [
       "<IPython.core.display.Markdown object>"
      ]
     },
     "metadata": {},
     "output_type": "display_data"
    },
    {
     "data": {
      "text/markdown": [
       "4) $\\displaystyle \\left(- 3 \\sqrt{3} - 3\\right) \\left(3 \\sqrt{3} + 6\\right)$"
      ],
      "text/plain": [
       "<IPython.core.display.Markdown object>"
      ]
     },
     "metadata": {},
     "output_type": "display_data"
    },
    {
     "data": {
      "text/markdown": [
       "5) $\\displaystyle \\left(-3 + \\sqrt{3}\\right) \\left(- 4 \\sqrt{3} + 9\\right)$"
      ],
      "text/plain": [
       "<IPython.core.display.Markdown object>"
      ]
     },
     "metadata": {},
     "output_type": "display_data"
    },
    {
     "data": {
      "text/markdown": [
       "6) $\\displaystyle \\left(2 + 4 \\sqrt{2}\\right) \\left(\\sqrt{2} + 3\\right)$"
      ],
      "text/plain": [
       "<IPython.core.display.Markdown object>"
      ]
     },
     "metadata": {},
     "output_type": "display_data"
    },
    {
     "data": {
      "text/markdown": [
       "7) $\\displaystyle \\left(-4 + 4 \\sqrt{2}\\right) \\left(4 \\sqrt{2} + 6\\right)$"
      ],
      "text/plain": [
       "<IPython.core.display.Markdown object>"
      ]
     },
     "metadata": {},
     "output_type": "display_data"
    },
    {
     "data": {
      "text/markdown": [
       "8) $\\displaystyle \\left(- 5 \\sqrt{6} - 3\\right) \\left(- 3 \\sqrt{6} + 9\\right)$"
      ],
      "text/plain": [
       "<IPython.core.display.Markdown object>"
      ]
     },
     "metadata": {},
     "output_type": "display_data"
    },
    {
     "data": {
      "text/markdown": [
       "9) $\\displaystyle \\left(- 4 \\sqrt{5} + 3\\right) \\left(- 3 \\sqrt{5} - 6\\right)$"
      ],
      "text/plain": [
       "<IPython.core.display.Markdown object>"
      ]
     },
     "metadata": {},
     "output_type": "display_data"
    },
    {
     "data": {
      "text/markdown": [
       "10) $\\displaystyle \\left(-7 + 5 \\sqrt{10}\\right) \\left(2 + 3 \\sqrt{10}\\right)$"
      ],
      "text/plain": [
       "<IPython.core.display.Markdown object>"
      ]
     },
     "metadata": {},
     "output_type": "display_data"
    },
    {
     "data": {
      "text/markdown": [
       "11) $\\displaystyle \\left(-3 + 3 \\sqrt{10}\\right) \\left(- 3 \\sqrt{10} - 8\\right)$"
      ],
      "text/plain": [
       "<IPython.core.display.Markdown object>"
      ]
     },
     "metadata": {},
     "output_type": "display_data"
    },
    {
     "data": {
      "text/markdown": [
       "12) $\\displaystyle \\left(- 4 \\sqrt{5} + 6\\right) \\left(- 2 \\sqrt{5} - 2\\right)$"
      ],
      "text/plain": [
       "<IPython.core.display.Markdown object>"
      ]
     },
     "metadata": {},
     "output_type": "display_data"
    },
    {
     "data": {
      "text/markdown": [
       "13) $\\displaystyle \\left(7 + 3 \\sqrt{10}\\right) \\left(- \\sqrt{10} + 8\\right)$"
      ],
      "text/plain": [
       "<IPython.core.display.Markdown object>"
      ]
     },
     "metadata": {},
     "output_type": "display_data"
    },
    {
     "data": {
      "text/markdown": [
       "14) $\\displaystyle \\left(-4 + \\sqrt{6}\\right) \\left(-2 + 2 \\sqrt{6}\\right)$"
      ],
      "text/plain": [
       "<IPython.core.display.Markdown object>"
      ]
     },
     "metadata": {},
     "output_type": "display_data"
    },
    {
     "data": {
      "text/markdown": [
       "15) $\\displaystyle \\left(6 + 4 \\sqrt{6}\\right) \\left(- 4 \\sqrt{6} + 8\\right)$"
      ],
      "text/plain": [
       "<IPython.core.display.Markdown object>"
      ]
     },
     "metadata": {},
     "output_type": "display_data"
    },
    {
     "data": {
      "text/markdown": [
       "16) $\\displaystyle \\left(1 + 5 \\sqrt{6}\\right) \\left(- 2 \\sqrt{6} + 4\\right)$"
      ],
      "text/plain": [
       "<IPython.core.display.Markdown object>"
      ]
     },
     "metadata": {},
     "output_type": "display_data"
    },
    {
     "data": {
      "text/markdown": [
       "17) $\\displaystyle \\left(3 + 3 \\sqrt{2}\\right) \\left(- \\sqrt{2} + 9\\right)$"
      ],
      "text/plain": [
       "<IPython.core.display.Markdown object>"
      ]
     },
     "metadata": {},
     "output_type": "display_data"
    },
    {
     "data": {
      "text/markdown": [
       "18) $\\displaystyle \\left(-5 + 5 \\sqrt{6}\\right) \\left(- 3 \\sqrt{6} + 4\\right)$"
      ],
      "text/plain": [
       "<IPython.core.display.Markdown object>"
      ]
     },
     "metadata": {},
     "output_type": "display_data"
    },
    {
     "data": {
      "text/markdown": [
       "19) $\\displaystyle \\left(- 5 \\sqrt{3} - 5\\right) \\left(- 5 \\sqrt{3} + 3\\right)$"
      ],
      "text/plain": [
       "<IPython.core.display.Markdown object>"
      ]
     },
     "metadata": {},
     "output_type": "display_data"
    },
    {
     "data": {
      "text/markdown": [
       "20) $\\displaystyle \\left(-9 + 5 \\sqrt{2}\\right) \\left(- 3 \\sqrt{2} - 4\\right)$"
      ],
      "text/plain": [
       "<IPython.core.display.Markdown object>"
      ]
     },
     "metadata": {},
     "output_type": "display_data"
    }
   ],
   "source": [
    "x.output_exercises()"
   ]
  },
  {
   "cell_type": "code",
   "execution_count": 15,
   "metadata": {},
   "outputs": [
    {
     "data": {
      "text/markdown": [
       "#### Solutions ####"
      ],
      "text/plain": [
       "<IPython.core.display.Markdown object>"
      ]
     },
     "metadata": {},
     "output_type": "display_data"
    },
    {
     "data": {
      "text/markdown": [
       "1) $\\displaystyle \\left(-2 - \\sqrt{3}\\right) \\left(- 5 \\sqrt{3} + 9\\right)=-3 + \\sqrt{3}$"
      ],
      "text/plain": [
       "<IPython.core.display.Markdown object>"
      ]
     },
     "metadata": {},
     "output_type": "display_data"
    },
    {
     "data": {
      "text/markdown": [
       "2) $\\displaystyle \\left(1 + 4 \\sqrt{2}\\right) \\left(- 10 \\sqrt{2} + 6\\right)=-74 + 14 \\sqrt{2}$"
      ],
      "text/plain": [
       "<IPython.core.display.Markdown object>"
      ]
     },
     "metadata": {},
     "output_type": "display_data"
    },
    {
     "data": {
      "text/markdown": [
       "3) $\\displaystyle \\left(- 4 \\sqrt{10} - 8\\right) \\left(- 4 \\sqrt{10} + 9\\right)=- 4 \\sqrt{10} + 88$"
      ],
      "text/plain": [
       "<IPython.core.display.Markdown object>"
      ]
     },
     "metadata": {},
     "output_type": "display_data"
    },
    {
     "data": {
      "text/markdown": [
       "4) $\\displaystyle \\left(- 3 \\sqrt{3} - 3\\right) \\left(3 \\sqrt{3} + 6\\right)=- 27 \\sqrt{3} - 45$"
      ],
      "text/plain": [
       "<IPython.core.display.Markdown object>"
      ]
     },
     "metadata": {},
     "output_type": "display_data"
    },
    {
     "data": {
      "text/markdown": [
       "5) $\\displaystyle \\left(-3 + \\sqrt{3}\\right) \\left(- 4 \\sqrt{3} + 9\\right)=-39 + 21 \\sqrt{3}$"
      ],
      "text/plain": [
       "<IPython.core.display.Markdown object>"
      ]
     },
     "metadata": {},
     "output_type": "display_data"
    },
    {
     "data": {
      "text/markdown": [
       "6) $\\displaystyle \\left(2 + 4 \\sqrt{2}\\right) \\left(\\sqrt{2} + 3\\right)=14 + 14 \\sqrt{2}$"
      ],
      "text/plain": [
       "<IPython.core.display.Markdown object>"
      ]
     },
     "metadata": {},
     "output_type": "display_data"
    },
    {
     "data": {
      "text/markdown": [
       "7) $\\displaystyle \\left(-4 + 4 \\sqrt{2}\\right) \\left(4 \\sqrt{2} + 6\\right)=8 + 8 \\sqrt{2}$"
      ],
      "text/plain": [
       "<IPython.core.display.Markdown object>"
      ]
     },
     "metadata": {},
     "output_type": "display_data"
    },
    {
     "data": {
      "text/markdown": [
       "8) $\\displaystyle \\left(- 5 \\sqrt{6} - 3\\right) \\left(- 3 \\sqrt{6} + 9\\right)=- 36 \\sqrt{6} + 63$"
      ],
      "text/plain": [
       "<IPython.core.display.Markdown object>"
      ]
     },
     "metadata": {},
     "output_type": "display_data"
    },
    {
     "data": {
      "text/markdown": [
       "9) $\\displaystyle \\left(- 4 \\sqrt{5} + 3\\right) \\left(- 3 \\sqrt{5} - 6\\right)=15 \\sqrt{5} + 42$"
      ],
      "text/plain": [
       "<IPython.core.display.Markdown object>"
      ]
     },
     "metadata": {},
     "output_type": "display_data"
    },
    {
     "data": {
      "text/markdown": [
       "10) $\\displaystyle \\left(-7 + 5 \\sqrt{10}\\right) \\left(2 + 3 \\sqrt{10}\\right)=- 11 \\sqrt{10} + 136$"
      ],
      "text/plain": [
       "<IPython.core.display.Markdown object>"
      ]
     },
     "metadata": {},
     "output_type": "display_data"
    },
    {
     "data": {
      "text/markdown": [
       "11) $\\displaystyle \\left(-3 + 3 \\sqrt{10}\\right) \\left(- 3 \\sqrt{10} - 8\\right)=-66 - 15 \\sqrt{10}$"
      ],
      "text/plain": [
       "<IPython.core.display.Markdown object>"
      ]
     },
     "metadata": {},
     "output_type": "display_data"
    },
    {
     "data": {
      "text/markdown": [
       "12) $\\displaystyle \\left(- 4 \\sqrt{5} + 6\\right) \\left(- 2 \\sqrt{5} - 2\\right)=- 4 \\sqrt{5} + 28$"
      ],
      "text/plain": [
       "<IPython.core.display.Markdown object>"
      ]
     },
     "metadata": {},
     "output_type": "display_data"
    },
    {
     "data": {
      "text/markdown": [
       "13) $\\displaystyle \\left(7 + 3 \\sqrt{10}\\right) \\left(- \\sqrt{10} + 8\\right)=26 + 17 \\sqrt{10}$"
      ],
      "text/plain": [
       "<IPython.core.display.Markdown object>"
      ]
     },
     "metadata": {},
     "output_type": "display_data"
    },
    {
     "data": {
      "text/markdown": [
       "14) $\\displaystyle \\left(-4 + \\sqrt{6}\\right) \\left(-2 + 2 \\sqrt{6}\\right)=- 10 \\sqrt{6} + 20$"
      ],
      "text/plain": [
       "<IPython.core.display.Markdown object>"
      ]
     },
     "metadata": {},
     "output_type": "display_data"
    },
    {
     "data": {
      "text/markdown": [
       "15) $\\displaystyle \\left(6 + 4 \\sqrt{6}\\right) \\left(- 4 \\sqrt{6} + 8\\right)=-48 + 8 \\sqrt{6}$"
      ],
      "text/plain": [
       "<IPython.core.display.Markdown object>"
      ]
     },
     "metadata": {},
     "output_type": "display_data"
    },
    {
     "data": {
      "text/markdown": [
       "16) $\\displaystyle \\left(1 + 5 \\sqrt{6}\\right) \\left(- 2 \\sqrt{6} + 4\\right)=-56 + 18 \\sqrt{6}$"
      ],
      "text/plain": [
       "<IPython.core.display.Markdown object>"
      ]
     },
     "metadata": {},
     "output_type": "display_data"
    },
    {
     "data": {
      "text/markdown": [
       "17) $\\displaystyle \\left(3 + 3 \\sqrt{2}\\right) \\left(- \\sqrt{2} + 9\\right)=21 + 24 \\sqrt{2}$"
      ],
      "text/plain": [
       "<IPython.core.display.Markdown object>"
      ]
     },
     "metadata": {},
     "output_type": "display_data"
    },
    {
     "data": {
      "text/markdown": [
       "18) $\\displaystyle \\left(-5 + 5 \\sqrt{6}\\right) \\left(- 3 \\sqrt{6} + 4\\right)=-110 + 35 \\sqrt{6}$"
      ],
      "text/plain": [
       "<IPython.core.display.Markdown object>"
      ]
     },
     "metadata": {},
     "output_type": "display_data"
    },
    {
     "data": {
      "text/markdown": [
       "19) $\\displaystyle \\left(- 5 \\sqrt{3} - 5\\right) \\left(- 5 \\sqrt{3} + 3\\right)=10 \\sqrt{3} + 60$"
      ],
      "text/plain": [
       "<IPython.core.display.Markdown object>"
      ]
     },
     "metadata": {},
     "output_type": "display_data"
    },
    {
     "data": {
      "text/markdown": [
       "20) $\\displaystyle \\left(-9 + 5 \\sqrt{2}\\right) \\left(- 3 \\sqrt{2} - 4\\right)=6 + 7 \\sqrt{2}$"
      ],
      "text/plain": [
       "<IPython.core.display.Markdown object>"
      ]
     },
     "metadata": {},
     "output_type": "display_data"
    }
   ],
   "source": [
    "x.output_solutions()"
   ]
  },
  {
   "cell_type": "code",
   "execution_count": null,
   "metadata": {},
   "outputs": [],
   "source": []
  }
 ],
 "metadata": {
  "kernelspec": {
   "display_name": "Python 3",
   "language": "python",
   "name": "python3"
  },
  "language_info": {
   "codemirror_mode": {
    "name": "ipython",
    "version": 3
   },
   "file_extension": ".py",
   "mimetype": "text/x-python",
   "name": "python",
   "nbconvert_exporter": "python",
   "pygments_lexer": "ipython3",
   "version": "3.6.7"
  }
 },
 "nbformat": 4,
 "nbformat_minor": 2
}
